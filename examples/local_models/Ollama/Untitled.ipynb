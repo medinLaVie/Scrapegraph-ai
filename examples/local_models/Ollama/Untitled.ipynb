{
 "cells": [
  {
   "cell_type": "code",
   "execution_count": 2,
   "id": "ad393018-a20c-4483-a3fb-f8c2b8bfc0a2",
   "metadata": {},
   "outputs": [],
   "source": [
    "# test the scraping"
   ]
  },
  {
   "cell_type": "code",
   "execution_count": 6,
   "id": "7aaa018f-35b2-41ba-ae68-e7fde0ae913d",
   "metadata": {},
   "outputs": [],
   "source": [
    "\"\"\" \n",
    "Basic example of scraping pipeline using SmartScraper\n",
    "\"\"\"\n",
    "from scrapegraphai.graphs import SmartScraperGraph\n",
    "from scrapegraphai.utils import prettify_exec_info"
   ]
  },
  {
   "cell_type": "code",
   "execution_count": 8,
   "id": "42e56cff-8e38-42f8-aedf-1e5e85b607bf",
   "metadata": {},
   "outputs": [],
   "source": [
    "graph_config = {\n",
    "    \"llm\": {\n",
    "        \"model\": \"ollama/mistral\",\n",
    "        \"temperature\": 0,\n",
    "        \"format\": \"json\",  # Ollama needs the format to be specified explicitly\n",
    "        # \"model_tokens\": 2000, # set context length arbitrarily,\n",
    "        \"base_url\": \"http://localhost:11434\",  # set ollama URL arbitrarily\n",
    "    },\n",
    "    \"embeddings\": {\n",
    "        \"model\": \"ollama/nomic-embed-text\",\n",
    "        \"temperature\": 0,\n",
    "        \"base_url\": \"http://localhost:11434\",  # set ollama URL arbitrarily\n",
    "    }\n",
    "}"
   ]
  },
  {
   "cell_type": "code",
   "execution_count": 20,
   "id": "54cee38e-a271-4bce-913c-4958960960cf",
   "metadata": {},
   "outputs": [],
   "source": [
    "smart_scraper_graph = SmartScraperGraph(\n",
    "    prompt=\"List me all the stories with their title, url, content.\",\n",
    "    # also accepts a string with the already downloaded HTML code\n",
    "    source=\"https://www.literotica.com/c/first-time-sex-stories\",\n",
    "    config=graph_config\n",
    ")"
   ]
  },
  {
   "cell_type": "code",
   "execution_count": null,
   "id": "517abc25-59f4-40bf-9259-30037844f9c8",
   "metadata": {},
   "outputs": [
    {
     "name": "stdout",
     "output_type": "stream",
     "text": [
      "--- Executing Fetch Node ---\n"
     ]
    },
    {
     "name": "stderr",
     "output_type": "stream",
     "text": [
      "Fetching pages: 100%|################| 1/1 [00:00<00:00,  2.23it/s]\n"
     ]
    },
    {
     "name": "stdout",
     "output_type": "stream",
     "text": [
      "--- Executing Parse Node ---\n",
      "--- Executing RAG Node ---\n",
      "--- (updated chunks metadata) ---\n",
      "--- (tokens compressed and vector stored) ---\n",
      "--- Executing GenerateAnswer Node ---\n"
     ]
    },
    {
     "name": "stderr",
     "output_type": "stream",
     "text": [
      "Processing chunks: 100%|███████████| 1/1 [00:00<00:00, 2149.82it/s]\n"
     ]
    }
   ],
   "source": [
    "result = smart_scraper_graph.run()"
   ]
  },
  {
   "cell_type": "code",
   "execution_count": null,
   "id": "d220547e-73ba-43ff-8faf-9eac1efc2159",
   "metadata": {},
   "outputs": [],
   "source": []
  },
  {
   "cell_type": "code",
   "execution_count": null,
   "id": "356c53b5-6ce8-4aef-b71d-3e6647d02f72",
   "metadata": {},
   "outputs": [],
   "source": [
    "print(result)"
   ]
  },
  {
   "cell_type": "code",
   "execution_count": null,
   "id": "0bc7f3f2-99d2-4414-9bcb-532f56bf8b59",
   "metadata": {},
   "outputs": [],
   "source": []
  },
  {
   "cell_type": "code",
   "execution_count": 19,
   "id": "3378121a-45de-4d14-bfea-dcbb23dd6c33",
   "metadata": {},
   "outputs": [
    {
     "name": "stdout",
     "output_type": "stream",
     "text": [
      "{\n",
      "    \"news\": [\n",
      "        {\n",
      "            \"title\": \"Rotary Pendulum RL\",\n",
      "            \"description\": \"Open Source project aimed at controlling a real life rotary pendulum using RL algorithms\"\n",
      "        },\n",
      "        {\n",
      "            \"title\": \"DQN Implementation from scratch\",\n",
      "            \"description\": \"Developed a Deep Q-Network algorithm to train a simple and double pendulum\"\n",
      "        },\n",
      "        {\n",
      "            \"title\": \"Multi Agents HAED\",\n",
      "            \"description\": \"University project which focuses on simulating a multi-agent system to perform environment mapping. Agents, equipped with sensors, explore and record their surroundings, considering uncertainties in their readings.\"\n",
      "        },\n",
      "        {\n",
      "            \"title\": \"Wireless ESC for Modular Drones\",\n",
      "            \"description\": \"Modular drone architecture proposal and proof of concept. The project received maximum grade.\"\n",
      "        }\n",
      "    ]\n",
      "}\n"
     ]
    }
   ],
   "source": [
    "import json\n",
    "print(json.dumps(result, indent=4))"
   ]
  },
  {
   "cell_type": "code",
   "execution_count": null,
   "id": "190be37a-40cc-4807-bff7-c749e73f3f8f",
   "metadata": {},
   "outputs": [],
   "source": []
  },
  {
   "cell_type": "code",
   "execution_count": null,
   "id": "e4a3b04a-7754-406d-8010-0c31e96db9f2",
   "metadata": {},
   "outputs": [],
   "source": []
  },
  {
   "cell_type": "code",
   "execution_count": null,
   "id": "6db9f41e-368c-41ee-b347-319b5609d317",
   "metadata": {},
   "outputs": [],
   "source": []
  },
  {
   "cell_type": "code",
   "execution_count": null,
   "id": "7b8520d7-4557-48af-af7f-bee8cefccb6e",
   "metadata": {},
   "outputs": [],
   "source": []
  },
  {
   "cell_type": "code",
   "execution_count": null,
   "id": "6777c7fa-f6d3-4e1b-83c5-1f487f285c0d",
   "metadata": {},
   "outputs": [],
   "source": []
  },
  {
   "cell_type": "code",
   "execution_count": null,
   "id": "acfa647e-96e9-42c9-ab0f-f3973be49387",
   "metadata": {},
   "outputs": [],
   "source": []
  },
  {
   "cell_type": "code",
   "execution_count": null,
   "id": "4398e138-a77c-4278-9e86-dc1c771e31ca",
   "metadata": {},
   "outputs": [],
   "source": []
  },
  {
   "cell_type": "code",
   "execution_count": null,
   "id": "0aba78b5-85ba-4632-9427-7a6b736a246c",
   "metadata": {},
   "outputs": [],
   "source": []
  }
 ],
 "metadata": {
  "kernelspec": {
   "display_name": "scrapegraph-ai-venv",
   "language": "python",
   "name": "scrapegraph-ai-venv"
  },
  "language_info": {
   "codemirror_mode": {
    "name": "ipython",
    "version": 3
   },
   "file_extension": ".py",
   "mimetype": "text/x-python",
   "name": "python",
   "nbconvert_exporter": "python",
   "pygments_lexer": "ipython3",
   "version": "3.9.13"
  }
 },
 "nbformat": 4,
 "nbformat_minor": 5
}
