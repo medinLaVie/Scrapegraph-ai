{
 "cells": [
  {
   "cell_type": "code",
   "execution_count": 2,
   "id": "ad393018-a20c-4483-a3fb-f8c2b8bfc0a2",
   "metadata": {},
   "outputs": [],
   "source": [
    "# test the scraping"
   ]
  },
  {
   "cell_type": "code",
   "execution_count": 6,
   "id": "7aaa018f-35b2-41ba-ae68-e7fde0ae913d",
   "metadata": {},
   "outputs": [],
   "source": [
    "\"\"\" \n",
    "Basic example of scraping pipeline using SmartScraper\n",
    "\"\"\"\n",
    "from scrapegraphai.graphs import SmartScraperGraph\n",
    "from scrapegraphai.utils import prettify_exec_info"
   ]
  },
  {
   "cell_type": "code",
   "execution_count": 7,
   "id": "42e56cff-8e38-42f8-aedf-1e5e85b607bf",
   "metadata": {},
   "outputs": [],
   "source": [
    "graph_config = {\n",
    "    \"llm\": {\n",
    "        \"model\": \"ollama/mistral\",\n",
    "        \"temperature\": 0,\n",
    "        \"format\": \"json\",  # Ollama needs the format to be specified explicitly\n",
    "        # \"model_tokens\": 2000, # set context length arbitrarily,\n",
    "        \"base_url\": \"http://localhost:11434\",  # set ollama URL arbitrarily\n",
    "    },\n",
    "    \"embeddings\": {\n",
    "        \"model\": \"ollama/nomic-embed-text\",\n",
    "        \"temperature\": 0,\n",
    "        \"base_url\": \"http://localhost:11434\",  # set ollama URL arbitrarily\n",
    "    }\n",
    "}"
   ]
  },
  {
   "cell_type": "code",
   "execution_count": 5,
   "id": "54cee38e-a271-4bce-913c-4958960960cf",
   "metadata": {},
   "outputs": [
    {
     "ename": "NameError",
     "evalue": "name 'graph_config' is not defined",
     "output_type": "error",
     "traceback": [
      "\u001b[0;31m---------------------------------------------------------------------------\u001b[0m",
      "\u001b[0;31mNameError\u001b[0m                                 Traceback (most recent call last)",
      "Cell \u001b[0;32mIn[5], line 5\u001b[0m\n\u001b[1;32m      1\u001b[0m smart_scraper_graph \u001b[38;5;241m=\u001b[39m SmartScraperGraph(\n\u001b[1;32m      2\u001b[0m     prompt\u001b[38;5;241m=\u001b[39m\u001b[38;5;124m\"\u001b[39m\u001b[38;5;124mList me all the news with their description.\u001b[39m\u001b[38;5;124m\"\u001b[39m,\n\u001b[1;32m      3\u001b[0m     \u001b[38;5;66;03m# also accepts a string with the already downloaded HTML code\u001b[39;00m\n\u001b[1;32m      4\u001b[0m     source\u001b[38;5;241m=\u001b[39m\u001b[38;5;124m\"\u001b[39m\u001b[38;5;124mhttps://perinim.github.io/projects\u001b[39m\u001b[38;5;124m\"\u001b[39m,\n\u001b[0;32m----> 5\u001b[0m     config\u001b[38;5;241m=\u001b[39m\u001b[43mgraph_config\u001b[49m\n\u001b[1;32m      6\u001b[0m )\n",
      "\u001b[0;31mNameError\u001b[0m: name 'graph_config' is not defined"
     ]
    }
   ],
   "source": [
    "smart_scraper_graph = SmartScraperGraph(\n",
    "    prompt=\"List me all the news with their description.\",\n",
    "    # also accepts a string with the already downloaded HTML code\n",
    "    source=\"https://perinim.github.io/projects\",\n",
    "    config=graph_config\n",
    ")"
   ]
  },
  {
   "cell_type": "code",
   "execution_count": null,
   "id": "acfa647e-96e9-42c9-ab0f-f3973be49387",
   "metadata": {},
   "outputs": [],
   "source": []
  },
  {
   "cell_type": "code",
   "execution_count": null,
   "id": "4398e138-a77c-4278-9e86-dc1c771e31ca",
   "metadata": {},
   "outputs": [],
   "source": []
  },
  {
   "cell_type": "code",
   "execution_count": null,
   "id": "0aba78b5-85ba-4632-9427-7a6b736a246c",
   "metadata": {},
   "outputs": [],
   "source": []
  }
 ],
 "metadata": {
  "kernelspec": {
   "display_name": "scrapegraph-ai-venv",
   "language": "python",
   "name": "scrapegraph-ai-venv"
  },
  "language_info": {
   "codemirror_mode": {
    "name": "ipython",
    "version": 3
   },
   "file_extension": ".py",
   "mimetype": "text/x-python",
   "name": "python",
   "nbconvert_exporter": "python",
   "pygments_lexer": "ipython3",
   "version": "3.9.13"
  }
 },
 "nbformat": 4,
 "nbformat_minor": 5
}
